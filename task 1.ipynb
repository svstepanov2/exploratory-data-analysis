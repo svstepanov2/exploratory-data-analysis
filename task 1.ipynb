{
 "cells": [
  {
   "cell_type": "markdown",
   "metadata": {},
   "source": [
    "#### 1. Даны значения зарплат из выборки выпускников: 100, 80, 75, 77, 89, 33, 45, 25, 65, 17, 30, 24, 57, 55, 70, 75, 65, 84, 90, 150. Посчитать (желательно без использования статистических методов наподобие std, var, mean):\n",
    "\n",
    "-  среднее арифметическое\n",
    "-  среднее квадратичное отклонение\n",
    "-  смещенную и несмещенную оценки дисперсий для данной выборки."
   ]
  },
  {
   "cell_type": "code",
   "execution_count": 3,
   "metadata": {},
   "outputs": [],
   "source": [
    "import numpy as np\n",
    "import matplotlib.pyplot as plt\n",
    "from math import factorial"
   ]
  },
  {
   "cell_type": "code",
   "execution_count": 4,
   "metadata": {},
   "outputs": [],
   "source": [
    "arr=np.array([100, 80, 75, 77, 89, 33, 45, 25, 65, 17, 30, 24, 57, 55, 70, 75, 65, 84, 90, 150])"
   ]
  },
  {
   "cell_type": "markdown",
   "metadata": {},
   "source": [
    "а) Найти среднее арифметическое, для этого используем формулу: $\\displaystyle M(X)=\\frac{1}{n}\\sum^n_{i=1}x_i$"
   ]
  },
  {
   "cell_type": "code",
   "execution_count": 5,
   "metadata": {},
   "outputs": [],
   "source": [
    "def mean_value(array):\n",
    "    return sum(array) / len(array)"
   ]
  },
  {
   "cell_type": "code",
   "execution_count": 6,
   "metadata": {},
   "outputs": [
    {
     "name": "stdout",
     "output_type": "stream",
     "text": [
      "Среднее арифметическое = 65.3\n"
     ]
    }
   ],
   "source": [
    "print(f'Среднее арифметическое = {round(mean_value(arr),2)}')\n",
    "a=round(mean_value(arr),2)"
   ]
  },
  {
   "cell_type": "code",
   "execution_count": 7,
   "metadata": {},
   "outputs": [
    {
     "data": {
      "text/plain": [
       "65.3"
      ]
     },
     "execution_count": 7,
     "metadata": {},
     "output_type": "execute_result"
    }
   ],
   "source": [
    "np.mean(arr)"
   ]
  },
  {
   "cell_type": "markdown",
   "metadata": {},
   "source": [
    "б) Расчитать среднее квадратичное отклонение, для этого используем формулу: $\\sigma=\\sqrt{\\frac{\\displaystyle\\sum^n_{i=1}(x_{i}-\\bar x)^2}{n-1}}$ , где $\\bar x =\\frac{1}{n}\\sum^n_{i=1}x_i$"
   ]
  },
  {
   "cell_type": "code",
   "execution_count": 8,
   "metadata": {},
   "outputs": [],
   "source": [
    "def mean_square_deviation(array):\n",
    "    square_deviation = (array - mean_value(array)) ** 2\n",
    "    return (sum(square_deviation) / (len(square_deviation) - 1)) ** (1/2)"
   ]
  },
  {
   "cell_type": "code",
   "execution_count": 11,
   "metadata": {},
   "outputs": [
    {
     "name": "stdout",
     "output_type": "stream",
     "text": [
      "Среднее квадратичное отклонение = 31.62\n"
     ]
    }
   ],
   "source": [
    "print(f'Среднее квадратичное отклонение = {round(mean_square_deviation(arr),2)}')"
   ]
  },
  {
   "cell_type": "code",
   "execution_count": 10,
   "metadata": {},
   "outputs": [
    {
     "data": {
      "text/plain": [
       "31.624607341019814"
      ]
     },
     "execution_count": 10,
     "metadata": {},
     "output_type": "execute_result"
    }
   ],
   "source": [
    "np.std(arr, ddof=1)"
   ]
  },
  {
   "cell_type": "markdown",
   "metadata": {},
   "source": [
    "в) Рассчитать смещенную и несмещенную оценки дисперсий, для этого используем формулы:\n",
    "\n",
    "смещенной дисперсии: $\\sigma^2=\\frac{\\displaystyle\\sum^n_{i=1}(x_{i}-\\bar x)^2}{n}$  \n",
    "несмещённой дисперсии: $\\sigma^2=\\frac{\\displaystyle\\sum^n_{i=1}(x_{i}-\\bar x)^2}{n-1}$"
   ]
  },
  {
   "cell_type": "code",
   "execution_count": 38,
   "metadata": {},
   "outputs": [],
   "source": [
    "def dispersion(array, offset):\n",
    "    square_deviation = (array - mean_value(array)) **2\n",
    "    return sum(square_deviation) / (len(square_deviation) - 1) if offset else sum(square_deviation) / len(square_deviation)"
   ]
  },
  {
   "cell_type": "code",
   "execution_count": 39,
   "metadata": {},
   "outputs": [
    {
     "name": "stdout",
     "output_type": "stream",
     "text": [
      "Смещенная оценка дисперсии = 950.11\n",
      "Немещенная оценка дисперсии = 1000.12\n"
     ]
    }
   ],
   "source": [
    "print(f'Смещенная оценка дисперсии = {round(dispersion(arr, False),2)}\\n'\n",
    "      f'Немещенная оценка дисперсии = {round(dispersion(arr, True),2)}')"
   ]
  },
  {
   "cell_type": "code",
   "execution_count": 37,
   "metadata": {},
   "outputs": [
    {
     "data": {
      "text/plain": [
       "950.11"
      ]
     },
     "execution_count": 37,
     "metadata": {},
     "output_type": "execute_result"
    }
   ],
   "source": [
    "np.var(arr, ddof=0)"
   ]
  },
  {
   "cell_type": "code",
   "execution_count": 36,
   "metadata": {},
   "outputs": [
    {
     "data": {
      "text/plain": [
       "1000.1157894736842"
      ]
     },
     "execution_count": 36,
     "metadata": {},
     "output_type": "execute_result"
    }
   ],
   "source": [
    "np.var(arr, ddof=1)"
   ]
  },
  {
   "cell_type": "markdown",
   "metadata": {},
   "source": [
    "### Результат:  \n",
    "а) Среднее арифметическое $М(Х) = 65.30 $;  \n",
    "б) Среднее квадратичное отклонение $\\sigma = 31.62$;  \n",
    "в) Смещенная оценка дисперсии $\\sigma^2 = 950.11$  \n",
    "   Немещенная оценка дисперсии $\\sigma^2 = 1000.12$"
   ]
  }
 ],
 "metadata": {
  "kernelspec": {
   "display_name": "Python 3",
   "language": "python",
   "name": "python3"
  },
  "language_info": {
   "codemirror_mode": {
    "name": "ipython",
    "version": 3
   },
   "file_extension": ".py",
   "mimetype": "text/x-python",
   "name": "python",
   "nbconvert_exporter": "python",
   "pygments_lexer": "ipython3",
   "version": "3.11.6"
  }
 },
 "nbformat": 4,
 "nbformat_minor": 2
}
