{
 "cells": [
  {
   "cell_type": "markdown",
   "metadata": {},
   "source": [
    "#### 2. В первом ящике находится 8 мячей, из которых 5 - белые. Во втором ящике - 12 мячей, из которых 5 белых. Из первого ящика вытаскивают случайным образом два мяча, из второго - 4. Какова вероятность того, что 3 мяча белые?\n",
    "\n",
    "Это событие может произойти следующими способами:  \n",
    "$P(A)$: $m_1$ из первого ящика вытащили 0 белых мячей $И$ $P(B)$ $m_2$ из второго вытащили 3 белых мяча;  \n",
    "$P(C)$: $m_3$ из первого ящика вытащили 1 белый мяч $И$ $P(D)$ $m_4$ из второго вытащили 2 белых мяча;  \n",
    "$P(E)$: $m_5$ из первого ящика вытащили 2 белых мяча $И$ $P(F)$ $m_6$ из второго вытащили 1 белый мяч.  \n",
    "\n",
    "$n_1$: количество извлечения из первого ящика 2-х мячей из 8: $\\ {n_1} : \\ C^k_n = С^{2}_{8} $  \n",
    "$n_2$: количество извлечения из второго ящика 4-х мячей из 12: $\\ {n_1} : \\ C^k_n = С^{4}_{12} $  \n",
    "\n",
    "Вероятность события, что 3 мяча будут белыми определяются, как сумма вероятностей этих событий.  \n",
    "$\\ {P=P(A)*P(B)+P(C)*P(D)+P(E)*P(F)} $\n",
    "\n",
    "Определим вероятность события $Событие_1 - P(A)*P(B)$ = $\\frac{C^0_5\\cdot C^2_3}{C^2_8}\\cdot\\frac{C^3_5\\cdot C^1_7}{C^4_{12}}$"
   ]
  },
  {
   "cell_type": "code",
   "execution_count": 3,
   "metadata": {},
   "outputs": [],
   "source": [
    "import numpy as np\n",
    "import matplotlib.pyplot as plt\n",
    "from math import factorial"
   ]
  },
  {
   "cell_type": "code",
   "execution_count": 6,
   "metadata": {},
   "outputs": [],
   "source": [
    "def combinations(n,k):\n",
    "    return factorial(n) / (factorial(k) * factorial(n - k))"
   ]
  },
  {
   "cell_type": "code",
   "execution_count": 24,
   "metadata": {},
   "outputs": [
    {
     "name": "stdout",
     "output_type": "stream",
     "text": [
      "Из первого ящика вытащили 0 белых мячей И из второго вытащили 3 белых мяча = 0.0152\n"
     ]
    }
   ],
   "source": [
    "P1 = (combinations(5,0) * combinations(3,2) / combinations(8,2)) * (combinations(5,3) * combinations(7,1) / combinations(12,4))\n",
    "print(f'Из первого ящика вытащили 0 белых мячей И из второго вытащили 3 белых мяча = {round(P1, 4)}')"
   ]
  },
  {
   "cell_type": "markdown",
   "metadata": {},
   "source": [
    "Определим вероятность события $Событие_2 - P(C)*P(D)$ = $\\frac{C^1_5\\cdot C^1_3}{C^2_8}\\cdot\\frac{C^2_5\\cdot C^2_7}{C^4_{12}}$"
   ]
  },
  {
   "cell_type": "code",
   "execution_count": 28,
   "metadata": {},
   "outputs": [
    {
     "name": "stdout",
     "output_type": "stream",
     "text": [
      "из первого ящика вытащили 1 белый мяч И из второго вытащили 2 белых мяча = 0.2273\n"
     ]
    }
   ],
   "source": [
    "P2 = (combinations(5,1) * combinations(3,1) / combinations(8,2)) * (combinations(5,2) * combinations(7,2) / combinations(12,4))\n",
    "print(f'из первого ящика вытащили 1 белый мяч И из второго вытащили 2 белых мяча = {round(P2, 4)}')"
   ]
  },
  {
   "cell_type": "markdown",
   "metadata": {},
   "source": [
    "Определим вероятность события $Событие_3 - P(E)*P(F)$ = $\\frac{C^2_5\\cdot C^0_3}{C^2_8}\\cdot\\frac{C^1_5\\cdot C^3_7}{C^4_{12}}$ "
   ]
  },
  {
   "cell_type": "code",
   "execution_count": 30,
   "metadata": {},
   "outputs": [
    {
     "name": "stdout",
     "output_type": "stream",
     "text": [
      "из первого ящика вытащили 2 белых мяча И из второго вытащили 1 белый мяч = 0.1263\n"
     ]
    }
   ],
   "source": [
    "P3=(combinations(5,2) * combinations(3,0) / combinations(8,2)) * (combinations(5,1) * combinations(7,3) / combinations(12,4))\n",
    "print(f'из первого ящика вытащили 2 белых мяча И из второго вытащили 1 белый мяч = {round(P3, 4)}')"
   ]
  },
  {
   "cell_type": "code",
   "execution_count": 34,
   "metadata": {},
   "outputs": [
    {
     "name": "stdout",
     "output_type": "stream",
     "text": [
      "Вероятность того, что 3 мяча белые Р = 0.3687 = 36.87%\n"
     ]
    }
   ],
   "source": [
    "P = P1 + P2 + P3\n",
    "print(f'Вероятность того, что 3 мяча белые Р = {round(P, 4)} = {round(P * 100, 2)}%')"
   ]
  },
  {
   "cell_type": "markdown",
   "metadata": {},
   "source": [
    "### Результат:  \n",
    "Вероятность того, что 3 мяча белые = 36.87%"
   ]
  }
 ],
 "metadata": {
  "kernelspec": {
   "display_name": "Python 3",
   "language": "python",
   "name": "python3"
  },
  "language_info": {
   "codemirror_mode": {
    "name": "ipython",
    "version": 3
   },
   "file_extension": ".py",
   "mimetype": "text/x-python",
   "name": "python",
   "nbconvert_exporter": "python",
   "pygments_lexer": "ipython3",
   "version": "3.11.6"
  }
 },
 "nbformat": 4,
 "nbformat_minor": 2
}
